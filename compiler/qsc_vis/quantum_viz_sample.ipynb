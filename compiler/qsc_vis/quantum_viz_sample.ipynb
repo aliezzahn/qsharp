{
 "cells": [
  {
   "cell_type": "code",
   "execution_count": null,
   "metadata": {},
   "outputs": [],
   "source": [
    "from quantum_viz import Viewer\n",
    "\n",
    "# Create a quantum circuit that prepares a Bell state\n",
    "circuit = {\n",
    "    \"qubits\": [{ \"id\": 0 }, { \"id\": 1, \"numChildren\": 1 }],\n",
    "    \"operations\": [\n",
    "        {\n",
    "            \"gate\": 'H',\n",
    "            \"targets\": [{ \"qId\": 0 }],\n",
    "        },\n",
    "        {\n",
    "            \"gate\": \"X\",\n",
    "            \"isControlled\": \"True\",\n",
    "            \"controls\": [{ \"qId\": 0 }],\n",
    "            \"targets\": [{ \"qId\": 1 }],\n",
    "        },\n",
    "        {\n",
    "            \"gate\": \"Measure\",\n",
    "            \"isMeasurement\": \"True\",\n",
    "            \"controls\": [{ \"qId\": 1 }],\n",
    "            \"targets\": [{ \"type\": 1, \"qId\": 1, \"cId\": 0 }],\n",
    "        },\n",
    "    ],\n",
    "}\n",
    "\n",
    "\n",
    "widget = Viewer(circuit)\n",
    "widget  # Display the widget"
   ]
  }
 ],
 "metadata": {
  "language_info": {
   "name": "python"
  }
 },
 "nbformat": 4,
 "nbformat_minor": 2
}
