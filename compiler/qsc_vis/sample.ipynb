{
 "cells": [
  {
   "cell_type": "code",
   "execution_count": 2,
   "metadata": {},
   "outputs": [
    {
     "data": {
      "text/html": [
       "\n",
       "<script type=\"text/javascript\">\n",
       "require.config({\n",
       "    paths: {\n",
       "        qviz: 'https://unpkg.com/@microsoft/quantum-viz.js@1.0.2/dist/qviz.min'\n",
       "    }\n",
       "});\n",
       "require(['qviz'], function(qviz) {\n",
       "    const circuit = {\"qubits\": [{\"id\": 0}, {\"id\": 1, \"numChildren\": 1}], \"operations\": [{\"gate\": \"H\", \"targets\": [{\"qId\": 0}]}, {\"gate\": \"X\", \"isControlled\": \"True\", \"controls\": [{\"qId\": 0}], \"targets\": [{\"qId\": 1}]}, {\"gate\": \"Measure\", \"isMeasurement\": \"True\", \"controls\": [{\"qId\": 1}], \"targets\": [{\"type\": 1, \"qId\": 1, \"cId\": 0}]}]};\n",
       "    const targetDiv = document.getElementById('JSApp_3a4e856cbc9711ee821e002248bbfb1a');\n",
       "    if (targetDiv != null) {\n",
       "        qviz.draw(circuit, targetDiv, qviz.STYLES['Style.DEFAULT']);\n",
       "    }\n",
       "});\n",
       "</script>\n",
       "<div id=\"JSApp_3a4e856cbc9711ee821e002248bbfb1a\"></div>\n",
       "<div id=\"msg\"></div>\n"
      ],
      "text/plain": [
       "<IPython.core.display.HTML object>"
      ]
     },
     "metadata": {},
     "output_type": "display_data"
    }
   ],
   "source": [
    "from quantum_viz import Viewer\n",
    "\n",
    "# Create a quantum circuit that prepares a Bell state\n",
    "circuit = {\n",
    "    \"qubits\": [{ \"id\": 0 }, { \"id\": 1, \"numChildren\": 1 }],\n",
    "    \"operations\": [\n",
    "        {\n",
    "            \"gate\": 'H',\n",
    "            \"targets\": [{ \"qId\": 0 }],\n",
    "        },\n",
    "        {\n",
    "            \"gate\": \"X\",\n",
    "            \"isControlled\": \"True\",\n",
    "            \"controls\": [{ \"qId\": 0 }],\n",
    "            \"targets\": [{ \"qId\": 1 }],\n",
    "        },\n",
    "        {\n",
    "            \"gate\": \"Measure\",\n",
    "            \"isMeasurement\": \"True\",\n",
    "            \"controls\": [{ \"qId\": 1 }],\n",
    "            \"targets\": [{ \"type\": 1, \"qId\": 1, \"cId\": 0 }],\n",
    "        },\n",
    "    ],\n",
    "}\n",
    "\n",
    "\n",
    "widget = Viewer(circuit)\n",
    "widget  # Display the widget"
   ]
  },
  {
   "cell_type": "code",
   "execution_count": 3,
   "metadata": {},
   "outputs": [
    {
     "data": {
      "application/javascript": "// Copyright (c) Microsoft Corporation.\n// Licensed under the MIT License.\n\n// This file provides CodeMirror syntax highlighting for Q# magic cells\n// in classic Jupyter Notebooks. It does nothing in other (Jupyter Notebook 7,\n// VS Code, Azure Notebooks, etc.) environments.\n\n// Detect the prerequisites and do nothing if they don't exist.\nif (window.require && window.CodeMirror && window.Jupyter) {\n  // The simple mode plugin for CodeMirror is not loaded by default, so require it.\n  window.require([\"codemirror/addon/mode/simple\"], function defineMode() {\n    let rules = [\n      {\n        token: \"comment\",\n        regex: /(\\/\\/).*/,\n        beginWord: false,\n      },\n      {\n        token: \"string\",\n        regex: String.raw`^\\\"(?:[^\\\"\\\\]|\\\\[\\s\\S])*(?:\\\"|$)`,\n        beginWord: false,\n      },\n      {\n        token: \"keyword\",\n        regex: String.raw`(namespace|open|as|operation|function|body|adjoint|newtype|controlled|internal)\\b`,\n        beginWord: true,\n      },\n      {\n        token: \"keyword\",\n        regex: String.raw`(if|elif|else|repeat|until|fixup|for|in|return|fail|within|apply)\\b`,\n        beginWord: true,\n      },\n      {\n        token: \"keyword\",\n        regex: String.raw`(Adjoint|Controlled|Adj|Ctl|is|self|auto|distribute|invert|intrinsic)\\b`,\n        beginWord: true,\n      },\n      {\n        token: \"keyword\",\n        regex: String.raw`(let|set|use|borrow|mutable)\\b`,\n        beginWord: true,\n      },\n      {\n        token: \"operatorKeyword\",\n        regex: String.raw`(not|and|or)\\b|(w/)`,\n        beginWord: true,\n      },\n      {\n        token: \"operatorKeyword\",\n        regex: String.raw`(=)|(!)|(<)|(>)|(\\+)|(-)|(\\*)|(/)|(\\^)|(%)|(\\|)|(&&&)|(~~~)|(\\.\\.\\.)|(\\.\\.)|(\\?)`,\n        beginWord: false,\n      },\n      {\n        token: \"meta\",\n        regex: String.raw`(Int|BigInt|Double|Bool|Qubit|Pauli|Result|Range|String|Unit)\\b`,\n        beginWord: true,\n      },\n      {\n        token: \"atom\",\n        regex: String.raw`(true|false|Pauli(I|X|Y|Z)|One|Zero)\\b`,\n        beginWord: true,\n      },\n    ];\n    let simpleRules = [];\n    for (let rule of rules) {\n      simpleRules.push({\n        token: rule.token,\n        regex: new RegExp(rule.regex, \"g\"),\n        sol: rule.beginWord,\n      });\n      if (rule.beginWord) {\n        // Need an additional rule due to the fact that CodeMirror simple mode doesn't work with ^ token\n        simpleRules.push({\n          token: rule.token,\n          regex: new RegExp(String.raw`\\W` + rule.regex, \"g\"),\n          sol: false,\n        });\n      }\n    }\n\n    // Register the mode defined above with CodeMirror\n    window.CodeMirror.defineSimpleMode(\"qsharp\", { start: simpleRules });\n    window.CodeMirror.defineMIME(\"text/x-qsharp\", \"qsharp\");\n\n    // Tell Jupyter to associate %%qsharp magic cells with the qsharp mode\n    window.Jupyter.CodeCell.options_default.highlight_modes[\"qsharp\"] = {\n      reg: [/^%%qsharp/],\n    };\n\n    // Force re-highlighting of all cells the first time this code runs\n    for (const cell of window.Jupyter.notebook.get_cells()) {\n      cell.auto_highlight();\n    }\n  });\n}\n",
      "text/plain": []
     },
     "metadata": {},
     "output_type": "display_data"
    },
    {
     "data": {
      "application/x.qsharp-config": "{\"targetProfile\":\"base\"}",
      "text/plain": [
       "Q# initialized with configuration: {'targetProfile': 'base'}"
      ]
     },
     "execution_count": 3,
     "metadata": {},
     "output_type": "execute_result"
    }
   ],
   "source": [
    "import qsharp\n",
    "\n",
    "qsharp.init(target_profile=qsharp.TargetProfile.Base)"
   ]
  },
  {
   "cell_type": "code",
   "execution_count": 4,
   "metadata": {
    "vscode": {
     "languageId": "qsharp"
    }
   },
   "outputs": [],
   "source": [
    "%%qsharp\n",
    "\n",
    "open Microsoft.Quantum.Measurement;\n",
    "operation Foo() : Result[] {\n",
    "    use q1 = Qubit();\n",
    "    use q2 = Qubit();\n",
    "    H(q1);\n",
    "    CNOT(q1, q2);\n",
    "    let rs = [MResetZ(q1),MResetZ(q2)];\n",
    "    return []\n",
    "}"
   ]
  },
  {
   "cell_type": "code",
   "execution_count": 5,
   "metadata": {
    "vscode": {
     "languageId": "qsharp"
    }
   },
   "outputs": [],
   "source": [
    "%%qsharp\n",
    "\n",
    "/// # Sample\n",
    "/// Bell States\n",
    "///\n",
    "/// # Description\n",
    "/// Bell states or EPR pairs are specific quantum states of two qubits\n",
    "/// that represent the simplest (and maximal) examples of quantum entanglement.\n",
    "///\n",
    "/// This Q# program implements the four different Bell states.\n",
    "namespace Sample {\n",
    "    open Microsoft.Quantum.Diagnostics;\n",
    "    open Microsoft.Quantum.Measurement;\n",
    "\n",
    "    @EntryPoint()\n",
    "    operation BellStates() : (Result, Result)[] {\n",
    "        // Allocate the two qubits that will be used to create a Bell state.\n",
    "        use register = Qubit[2];\n",
    "\n",
    "        // This array contains a label and a preparation operation for each one\n",
    "        // of the four Bell states.\n",
    "        let bellStateTuples = [\n",
    "            (\"|Φ+〉\", PreparePhiPlus),\n",
    "            (\"|Φ-〉\", PreparePhiMinus),\n",
    "            (\"|Ψ+〉\", PreparePsiPlus),\n",
    "            (\"|Ψ-〉\", PreparePsiMinus)\n",
    "        ];\n",
    "\n",
    "        // Prepare all Bell states, show them using the `DumpMachine` operation\n",
    "        // and measure the Bell state qubits.\n",
    "        mutable measurements = [];\n",
    "        for (label, prepare) in bellStateTuples {\n",
    "            prepare(register);\n",
    "            Message($\"Bell state {label}:\");\n",
    "            DumpMachine();\n",
    "            set measurements += [(MResetZ(register[0]), MResetZ(register[1]))];\n",
    "        }\n",
    "        return measurements;\n",
    "    }\n",
    "\n",
    "    operation PreparePhiPlus(register : Qubit[]) : Unit {\n",
    "        ResetAll(register);             // |00〉\n",
    "        H(register[0]);                 // |+0〉\n",
    "        CNOT(register[0], register[1]); // 1/sqrt(2)(|00〉 + |11〉)\n",
    "    }\n",
    "\n",
    "    operation PreparePhiMinus(register : Qubit[]) : Unit {\n",
    "        ResetAll(register);             // |00〉\n",
    "        H(register[0]);                 // |+0〉\n",
    "        Z(register[0]);                 // |-0〉\n",
    "        CNOT(register[0], register[1]); // 1/sqrt(2)(|00〉 - |11〉)\n",
    "    }\n",
    "\n",
    "    operation PreparePsiPlus(register : Qubit[]) : Unit {\n",
    "        ResetAll(register);             // |00〉\n",
    "        H(register[0]);                 // |+0〉\n",
    "        X(register[1]);                 // |+1〉\n",
    "        CNOT(register[0], register[1]); // 1/sqrt(2)(|01〉 + |10〉)\n",
    "    }\n",
    "\n",
    "    operation PreparePsiMinus(register : Qubit[]) : Unit {\n",
    "        ResetAll(register);             // |00〉\n",
    "        H(register[0]);                 // |+0〉\n",
    "        Z(register[0]);                 // |-0〉\n",
    "        X(register[1]);                 // |-1〉\n",
    "        CNOT(register[0], register[1]); // 1/sqrt(2)(|01〉 - |10〉)\n",
    "    }\n",
    "}\n"
   ]
  },
  {
   "cell_type": "code",
   "execution_count": 7,
   "metadata": {},
   "outputs": [
    {
     "data": {
      "text/html": [
       "\n",
       "<script type=\"text/javascript\">\n",
       "require.config({\n",
       "    paths: {\n",
       "        qviz: 'https://unpkg.com/@microsoft/quantum-viz.js@1.0.2/dist/qviz.min'\n",
       "    }\n",
       "});\n",
       "require(['qviz'], function(qviz) {\n",
       "    const circuit = {\"operations\": [{\"gate\": \"H\", \"targets\": [{\"qId\": 2}]}, {\"gate\": \"X\", \"isControlled\": \"True\", \"controls\": [{\"qId\": 2}], \"targets\": [{\"qId\": 3}]}, {\"gate\": \"H\", \"targets\": [{\"qId\": 4}]}, {\"gate\": \"Z\", \"targets\": [{\"qId\": 4}]}, {\"gate\": \"X\", \"isControlled\": \"True\", \"controls\": [{\"qId\": 4}], \"targets\": [{\"qId\": 5}]}, {\"gate\": \"H\", \"targets\": [{\"qId\": 6}]}, {\"gate\": \"X\", \"targets\": [{\"qId\": 7}]}, {\"gate\": \"X\", \"isControlled\": \"True\", \"controls\": [{\"qId\": 6}], \"targets\": [{\"qId\": 7}]}, {\"gate\": \"H\", \"targets\": [{\"qId\": 8}]}, {\"gate\": \"Z\", \"targets\": [{\"qId\": 8}]}, {\"gate\": \"X\", \"targets\": [{\"qId\": 9}]}, {\"gate\": \"X\", \"isControlled\": \"True\", \"controls\": [{\"qId\": 8}], \"targets\": [{\"qId\": 9}]}, {\"gate\": \"Measure\", \"isMeasurement\": \"True\", \"controls\": [{\"qId\": 2}], \"targets\": [{\"type\": 1, \"qId\": 2, \"cId\": 0}]}, {\"gate\": \"Measure\", \"isMeasurement\": \"True\", \"controls\": [{\"qId\": 3}], \"targets\": [{\"type\": 1, \"qId\": 3, \"cId\": 0}]}, {\"gate\": \"Measure\", \"isMeasurement\": \"True\", \"controls\": [{\"qId\": 4}], \"targets\": [{\"type\": 1, \"qId\": 4, \"cId\": 0}]}, {\"gate\": \"Measure\", \"isMeasurement\": \"True\", \"controls\": [{\"qId\": 5}], \"targets\": [{\"type\": 1, \"qId\": 5, \"cId\": 0}]}, {\"gate\": \"Measure\", \"isMeasurement\": \"True\", \"controls\": [{\"qId\": 6}], \"targets\": [{\"type\": 1, \"qId\": 6, \"cId\": 0}]}, {\"gate\": \"Measure\", \"isMeasurement\": \"True\", \"controls\": [{\"qId\": 7}], \"targets\": [{\"type\": 1, \"qId\": 7, \"cId\": 0}]}, {\"gate\": \"Measure\", \"isMeasurement\": \"True\", \"controls\": [{\"qId\": 8}], \"targets\": [{\"type\": 1, \"qId\": 8, \"cId\": 0}]}, {\"gate\": \"Measure\", \"isMeasurement\": \"True\", \"controls\": [{\"qId\": 9}], \"targets\": [{\"type\": 1, \"qId\": 9, \"cId\": 0}]}], \"qubits\": [{\"id\": 0, \"numChildren\": 0}, {\"id\": 1, \"numChildren\": 0}, {\"id\": 2, \"numChildren\": 1}, {\"id\": 3, \"numChildren\": 1}, {\"id\": 4, \"numChildren\": 1}, {\"id\": 5, \"numChildren\": 1}, {\"id\": 6, \"numChildren\": 1}, {\"id\": 7, \"numChildren\": 1}, {\"id\": 8, \"numChildren\": 1}, {\"id\": 9, \"numChildren\": 1}]};\n",
       "    const targetDiv = document.getElementById('JSApp_3f2d509abc9711ee821e002248bbfb1a');\n",
       "    if (targetDiv != null) {\n",
       "        qviz.draw(circuit, targetDiv, qviz.STYLES['Style.DEFAULT']);\n",
       "    }\n",
       "});\n",
       "</script>\n",
       "<div id=\"JSApp_3f2d509abc9711ee821e002248bbfb1a\"></div>\n",
       "<div id=\"msg\"></div>\n"
      ],
      "text/plain": [
       "<IPython.core.display.HTML object>"
      ]
     },
     "metadata": {},
     "output_type": "display_data"
    }
   ],
   "source": [
    "circuit = qsharp.circuit(\"Sample.BellStates()\")\n",
    "widget = Viewer(circuit)\n",
    "widget"
   ]
  }
 ],
 "metadata": {
  "kernelspec": {
   "display_name": "Python 3",
   "language": "python",
   "name": "python3"
  },
  "language_info": {
   "codemirror_mode": {
    "name": "ipython",
    "version": 3
   },
   "file_extension": ".py",
   "mimetype": "text/x-python",
   "name": "python",
   "nbconvert_exporter": "python",
   "pygments_lexer": "ipython3",
   "version": "3.12.1"
  }
 },
 "nbformat": 4,
 "nbformat_minor": 2
}
